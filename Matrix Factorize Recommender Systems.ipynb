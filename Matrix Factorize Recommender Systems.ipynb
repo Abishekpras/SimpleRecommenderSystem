{
 "cells": [
  {
   "cell_type": "markdown",
   "metadata": {},
   "source": [
    "### Alternating Least Squares for Matrix Factorization"
   ]
  },
  {
   "cell_type": "code",
   "execution_count": 1,
   "metadata": {},
   "outputs": [
    {
     "data": {
      "text/plain": [
       "array([[2, 1, 0, 1, 0, 5],\n",
       "       [4, 0, 2, 0, 0, 0],\n",
       "       [3, 3, 0, 5, 1, 0],\n",
       "       [0, 0, 5, 0, 1, 2]])"
      ]
     },
     "execution_count": 1,
     "metadata": {},
     "output_type": "execute_result"
    }
   ],
   "source": [
    "import numpy as np\n",
    "A = np.array([2,1,0,1,0,5])\n",
    "B = np.array([4,0,2,0,0,0])\n",
    "C = np.array([3,3,0,5,1,0])\n",
    "D = np.array([0,0,5,0,1,2])\n",
    "M = np.vstack((A,B,C,D))\n",
    "M"
   ]
  },
  {
   "cell_type": "code",
   "execution_count": 2,
   "metadata": {},
   "outputs": [
    {
     "name": "stdout",
     "output_type": "stream",
     "text": [
      "\n",
      "U (4x4):\n",
      "[[2 2 1 2]\n",
      " [0 2 0 2]\n",
      " [1 3 1 4]\n",
      " [0 2 3 4]]\n",
      "\n",
      "\n",
      "V (4x6):\n",
      "[[2 1 3 2 4 0]\n",
      " [1 0 1 0 1 2]\n",
      " [1 1 3 3 1 1]\n",
      " [2 3 4 0 3 3]]\n"
     ]
    }
   ],
   "source": [
    "U = np.random.choice(5, (4,4))\n",
    "V = np.random.choice(5, (4,6))\n",
    "print('\\nU (4x4):\\n{}\\n\\n\\nV (4x6):\\n{}'.format(U,V))"
   ]
  },
  {
   "cell_type": "code",
   "execution_count": 3,
   "metadata": {},
   "outputs": [
    {
     "data": {
      "text/plain": [
       "array([[ 5,  3,  9,  7,  9,  1],\n",
       "       [13, 11, 25, 13, 19, 13],\n",
       "       [ 9, 11, 18,  5, 14, 10],\n",
       "       [18, 18, 36, 16, 26, 20]])"
      ]
     },
     "execution_count": 3,
     "metadata": {},
     "output_type": "execute_result"
    }
   ],
   "source": [
    "U.T.dot(V)"
   ]
  },
  {
   "cell_type": "code",
   "execution_count": 4,
   "metadata": {
    "collapsed": true
   },
   "outputs": [],
   "source": [
    "from numpy.linalg import inv, norm\n",
    "np.set_printoptions(precision=2)\n",
    "lbda = 0.2\n",
    "m, n = len(M), len(M[0])\n",
    "d = min(m,n)"
   ]
  },
  {
   "cell_type": "code",
   "execution_count": 5,
   "metadata": {
    "collapsed": true
   },
   "outputs": [],
   "source": [
    "v_ = lambda j: V[:,j]\n",
    "u_ = lambda i: U[:,i]\n",
    "vect_sq = lambda vect: vect.reshape(-1,1).dot(vect.reshape(1,-1))"
   ]
  },
  {
   "cell_type": "code",
   "execution_count": 6,
   "metadata": {
    "collapsed": true
   },
   "outputs": [],
   "source": [
    "omega = lambda coords: [(coords[0][t], coords[1][t]) for t in range(len(coords[0]))]"
   ]
  },
  {
   "cell_type": "markdown",
   "metadata": {},
   "source": [
    "The loss that we are trying to minimize over U and V is given by sum of squared error between M and M_hat plus regularization error, given below:\n",
    "\\begin{equation*}\n",
    "\\min_{U,V} \\left( \\sum_{M_{ij} \\in observed}^{} (M_{ij} - u_i^Tv_j)^2 \\right) + \\lambda\\left( \\sum_{i=1}^m \\Vert u_i \\Vert^2 + \\sum_{j=1}^n \\Vert v_j \\Vert^2 \\right)\n",
    "\\end{equation*}"
   ]
  },
  {
   "cell_type": "code",
   "execution_count": 7,
   "metadata": {
    "collapsed": true
   },
   "outputs": [],
   "source": [
    "def loss():\n",
    "    sq_err = sum([(M[i][j] - u_(i).dot(v_(j)))**2 for (i,j) in omega(np.nonzero(M))])\n",
    "    reg_loss = lbda*(sum([norm(u_(i))**2 for i in range(m)]) + sum([norm(v_(j))**2 for j in range(n)]))\n",
    "    return sq_err + reg_loss"
   ]
  },
  {
   "cell_type": "markdown",
   "metadata": {},
   "source": [
    "The closed form solution to obtain new estimates of U and V are obtained by differentiating the loss function w.r.t to the target optimization matrix each time\n",
    "\\begin{equation*}\n",
    "u_i = \\left( \\sum_{j \\in \\Omega(i)}^{} (v_jv_j^T + \\lambda I_k) \\right)^{-1}\\left( \\sum_{j \\in \\Omega(i)} M_{ij}v_j \\right)\\\\\n",
    "v_j = \\left( \\sum_{i \\in \\Omega(j)}^{} (u_iu_i^T + \\lambda I_k) \\right)^{-1}\\left( \\sum_{i \\in \\Omega(j)} M_{ij}u_i \\right)\n",
    "\\end{equation*}"
   ]
  },
  {
   "cell_type": "code",
   "execution_count": 8,
   "metadata": {
    "collapsed": true
   },
   "outputs": [],
   "source": [
    "def opt_U():\n",
    "    U_hat = np.zeros(U.shape)\n",
    "    for i in range(m):\n",
    "        omega_i = [j for j in range(n) if M[i][j]!=0]\n",
    "        A = inv(sum([(vect_sq(v_(j)) + lbda*np.eye(d)) for j in omega_i]))\n",
    "        B = sum([(M[i][j]*v_(j)) for j in omega_i]).reshape(-1,1)\n",
    "        U_hat[:,i] = np.squeeze(A.dot(B))\n",
    "    return U_hat"
   ]
  },
  {
   "cell_type": "code",
   "execution_count": 9,
   "metadata": {
    "collapsed": true
   },
   "outputs": [],
   "source": [
    "def opt_V():\n",
    "    V_hat = np.zeros(V.shape)\n",
    "    for j in range(n):\n",
    "        omega_j = [i for i in range(m) if M[i][j]!=0]\n",
    "        A = inv(sum([(vect_sq(u_(i)) + lbda*np.eye(d)) for i in omega_j]))\n",
    "        B = sum([(M[i][j]*u_(i)) for i in omega_j]).reshape(-1,1)\n",
    "        V_hat[:,j] = np.squeeze(A.dot(B))\n",
    "    return V_hat"
   ]
  },
  {
   "cell_type": "code",
   "execution_count": 10,
   "metadata": {},
   "outputs": [
    {
     "name": "stdout",
     "output_type": "stream",
     "text": [
      "Loss - 28.00437839609033\n",
      "Loss - 16.29821818254604\n",
      "Loss - 11.254134694362751\n",
      "Loss - 10.977922610312213\n",
      "Loss - 9.547057643085802\n",
      "Loss - 9.699477240448566\n",
      "Loss - 8.944564187929611\n",
      "Loss - 9.123856879328283\n",
      "Loss - 8.68574671150716\n",
      "Loss - 8.846631754743626\n",
      "Loss - 8.574814767931835\n",
      "Loss - 8.701158574356379\n",
      "Loss - 8.52650521237451\n",
      "Loss - 8.619859037922362\n",
      "Loss - 8.505285657788049\n",
      "Loss - 8.57250234779038\n",
      "Loss - 8.496156533603205\n",
      "Loss - 8.544166671219466\n",
      "Loss - 8.492603341915531\n",
      "Loss - 8.52697498642881\n"
     ]
    }
   ],
   "source": [
    "for i in range(10):\n",
    "    U = opt_U()\n",
    "    print('Loss - {}'.format(loss()))\n",
    "    V = opt_V()\n",
    "    print('Loss - {}'.format(loss()))"
   ]
  },
  {
   "cell_type": "code",
   "execution_count": 11,
   "metadata": {},
   "outputs": [
    {
     "data": {
      "text/plain": [
       "array([[2, 1, 0, 1, 0, 5],\n",
       "       [4, 0, 2, 0, 0, 0],\n",
       "       [3, 3, 0, 5, 1, 0],\n",
       "       [0, 0, 5, 0, 1, 2]])"
      ]
     },
     "execution_count": 11,
     "metadata": {},
     "output_type": "execute_result"
    }
   ],
   "source": [
    "M"
   ]
  },
  {
   "cell_type": "code",
   "execution_count": 12,
   "metadata": {},
   "outputs": [
    {
     "data": {
      "text/plain": [
       "array([[1.97, 0.97, 1.61, 1.04, 0.34, 4.44],\n",
       "       [3.52, 2.13, 2.01, 3.28, 0.6 , 2.96],\n",
       "       [2.92, 2.73, 3.91, 4.53, 0.95, 1.68],\n",
       "       [1.83, 2.25, 4.5 , 3.65, 0.94, 1.99]])"
      ]
     },
     "execution_count": 12,
     "metadata": {},
     "output_type": "execute_result"
    }
   ],
   "source": [
    "M_hat = U.T.dot(V)\n",
    "M_hat"
   ]
  },
  {
   "cell_type": "code",
   "execution_count": 13,
   "metadata": {
    "collapsed": true
   },
   "outputs": [],
   "source": [
    "users = { 0: 'A',\n",
    "          1: 'B',\n",
    "          2: 'C',\n",
    "          3: 'D'\n",
    "        }"
   ]
  },
  {
   "cell_type": "code",
   "execution_count": 14,
   "metadata": {},
   "outputs": [
    {
     "name": "stdout",
     "output_type": "stream",
     "text": [
      "\n",
      "Users A,B,C,D have choices 1,2,3,4,5,6\n",
      "\n",
      "User suggestions - A => 3\n",
      "User suggestions - B => 4\n",
      "User suggestions - C => 3\n",
      "User suggestions - D => 4\n"
     ]
    }
   ],
   "source": [
    "print('\\nUsers A,B,C,D have choices 1,2,3,4,5,6\\n')\n",
    "for i in range(m):\n",
    "    print('User suggestions - {} => {}'.format(users[i], 1+np.argmax((M_hat-M)[i])))"
   ]
  },
  {
   "cell_type": "code",
   "execution_count": null,
   "metadata": {
    "collapsed": true
   },
   "outputs": [],
   "source": []
  }
 ],
 "metadata": {
  "kernelspec": {
   "display_name": "Python 3",
   "language": "python",
   "name": "python3"
  },
  "language_info": {
   "codemirror_mode": {
    "name": "ipython",
    "version": 3
   },
   "file_extension": ".py",
   "mimetype": "text/x-python",
   "name": "python",
   "nbconvert_exporter": "python",
   "pygments_lexer": "ipython3",
   "version": "3.6.1"
  }
 },
 "nbformat": 4,
 "nbformat_minor": 2
}
